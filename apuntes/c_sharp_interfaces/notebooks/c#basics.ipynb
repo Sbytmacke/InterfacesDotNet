{
 "cells": [
  {
   "cell_type": "markdown",
   "metadata": {},
   "source": [
    "# Apuntes C# (se puede ejecutar directamente aquí)"
   ]
  },
  {
   "cell_type": "code",
   "execution_count": 3,
   "metadata": {
    "dotnet_interactive": {
     "language": "csharp"
    },
    "polyglot_notebook": {
     "kernelName": "csharp"
    },
    "vscode": {
     "languageId": "polyglot-notebook"
    }
   },
   "outputs": [
    {
     "name": "stdout",
     "output_type": "stream",
     "text": [
      "Numero: 4\r\n"
     ]
    }
   ],
   "source": [
    "int numero = 4;\n",
    "Console.WriteLine(\"Numero: \"+ numero);"
   ]
  },
  {
   "cell_type": "markdown",
   "metadata": {},
   "source": [
    "### Castings\n",
    "* Convert.ToLoQueSea(variable) o variables as tipo; Evitar casting -> (short) variable\n",
    "* as -> devuelve nulo si no lo puede convertir\n",
    "* Aunque en char a string si -> int chars = ((string) texto);"
   ]
  },
  {
   "cell_type": "markdown",
   "metadata": {},
   "source": [
    "### String Format"
   ]
  },
  {
   "cell_type": "code",
   "execution_count": 4,
   "metadata": {
    "dotnet_interactive": {
     "language": "csharp"
    },
    "polyglot_notebook": {
     "kernelName": "csharp"
    },
    "vscode": {
     "languageId": "polyglot-notebook"
    }
   },
   "outputs": [
    {
     "name": "stdout",
     "output_type": "stream",
     "text": [
      "Monedas: (0,C2)\n",
      "Numeros: (0,F2)\n"
     ]
    }
   ],
   "source": [
    "String a = String.Format(\"Monedas: (0,C2)\", 5);\n",
    "String b = String.Format(\"Numeros: (0,F2)\", 3.142);\n",
    "Console.WriteLine(a);\n",
    "Console.WriteLine(b);"
   ]
  },
  {
   "cell_type": "markdown",
   "metadata": {},
   "source": [
    "### Dynamic \n",
    "Mejor no utilizarlo y jugar bien con los tipados"
   ]
  },
  {
   "cell_type": "markdown",
   "metadata": {},
   "source": [
    "### Arrays\n",
    "* Elementos de subexpansión el array3"
   ]
  },
  {
   "cell_type": "code",
   "execution_count": 5,
   "metadata": {
    "dotnet_interactive": {
     "language": "csharp"
    },
    "polyglot_notebook": {
     "kernelName": "csharp"
    },
    "vscode": {
     "languageId": "polyglot-notebook"
    }
   },
   "outputs": [
    {
     "name": "stdout",
     "output_type": "stream",
     "text": [
      "0\n",
      "1\n",
      "3\n"
     ]
    }
   ],
   "source": [
    "int[] array = new int[5];\n",
    "int[] array2 = {1,2,3,4};\n",
    "int[] array3 = array2[2..4];\n",
    "\n",
    "Console.WriteLine(array[0]); \n",
    "Console.WriteLine(array2[0]); \n",
    "Console.WriteLine(array3[0]); \n"
   ]
  },
  {
   "cell_type": "markdown",
   "metadata": {},
   "source": [
    "* Multidimensional 5x3"
   ]
  },
  {
   "cell_type": "code",
   "execution_count": 6,
   "metadata": {
    "dotnet_interactive": {
     "language": "csharp"
    },
    "polyglot_notebook": {
     "kernelName": "csharp"
    },
    "vscode": {
     "languageId": "polyglot-notebook"
    }
   },
   "outputs": [],
   "source": [
    "int[,] colores = new int [5,3];\n",
    "string[][] colores2 = new string[][]\n",
    "{\n",
    "    new string[] {\"Rojos\", \"Azules\", \"Amarillo\"},\n",
    "    new string[] {\"Rojos\", \"Azules\", \"Amarillo\"},\n",
    "    new string[] {\"Rojos\", \"Azules\", \"Amarillo\"}\n",
    "};"
   ]
  },
  {
   "cell_type": "markdown",
   "metadata": {},
   "source": [
    "## XOR\n",
    "Cuando uno de los dos es cierto, es TRUE, si ambos son iguales, es FALSE"
   ]
  },
  {
   "cell_type": "markdown",
   "metadata": {},
   "source": [
    "## Métodos especiales\n",
    "* nameOf(var)\n",
    "* sizeOf(var)\n",
    "* typeOf(var), devuele el tipo de un tipo"
   ]
  },
  {
   "cell_type": "markdown",
   "metadata": {},
   "source": [
    "## Lectura"
   ]
  },
  {
   "cell_type": "code",
   "execution_count": 7,
   "metadata": {
    "dotnet_interactive": {
     "language": "csharp"
    },
    "polyglot_notebook": {
     "kernelName": "csharp"
    },
    "vscode": {
     "languageId": "polyglot-notebook"
    }
   },
   "outputs": [
    {
     "ename": "Error",
     "evalue": "System.InvalidOperationException: Cannot read keys when either application does not have a console or when console input has been redirected. Try Console.Read.\r\n   at System.ConsolePal.ReadKey(Boolean intercept)\r\n   at Submission#8.<<Initialize>>d__0.MoveNext()\r\n--- End of stack trace from previous location ---\r\n   at Microsoft.CodeAnalysis.Scripting.ScriptExecutionState.RunSubmissionsAsync[TResult](ImmutableArray`1 precedingExecutors, Func`2 currentExecutor, StrongBox`1 exceptionHolderOpt, Func`2 catchExceptionOpt, CancellationToken cancellationToken)",
     "output_type": "error",
     "traceback": [
      "System.InvalidOperationException: Cannot read keys when either application does not have a console or when console input has been redirected. Try Console.Read.\r\n",
      "   at System.ConsolePal.ReadKey(Boolean intercept)\r\n",
      "   at Submission#8.<<Initialize>>d__0.MoveNext()\r\n",
      "--- End of stack trace from previous location ---\r\n",
      "   at Microsoft.CodeAnalysis.Scripting.ScriptExecutionState.RunSubmissionsAsync[TResult](ImmutableArray`1 precedingExecutors, Func`2 currentExecutor, StrongBox`1 exceptionHolderOpt, Func`2 catchExceptionOpt, CancellationToken cancellationToken)"
     ]
    }
   ],
   "source": [
    "Console.ReadLine();\n",
    "Console.ReadKey();"
   ]
  },
  {
   "cell_type": "markdown",
   "metadata": {},
   "source": [
    "## Foreach\n",
    "En java deben tener \"iterable\" pues aqui interfaz \"enumerable\""
   ]
  },
  {
   "cell_type": "markdown",
   "metadata": {},
   "source": [
    "Para funcional debemos crear el objeto List o de cualquier coleccion:º"
   ]
  },
  {
   "cell_type": "code",
   "execution_count": 8,
   "metadata": {
    "dotnet_interactive": {
     "language": "csharp"
    },
    "polyglot_notebook": {
     "kernelName": "csharp"
    },
    "vscode": {
     "languageId": "polyglot-notebook"
    }
   },
   "outputs": [
    {
     "name": "stdout",
     "output_type": "stream",
     "text": [
      "1\n",
      "2\n"
     ]
    }
   ],
   "source": [
    "        List<string> arrayToTest = new List<string>();\n",
    "        arrayToTest.Add(\"1\");\n",
    "        arrayToTest.Add(\"2\");\n",
    "\n",
    "        arrayToTest.ForEach(number => Console.WriteLine(number));\n"
   ]
  },
  {
   "cell_type": "markdown",
   "metadata": {},
   "source": [
    "### Por referencia\n",
    "\n",
    "* ref: se cambia siempre en cualquier ámbito de variable\n",
    "* out: significa que si cambiamos dentro fuera va a cambiar, y lo incializamos directamente en el parámetro de la función\n",
    "* in: solo es de lectura = si lo modificamos dentro no cambia fuera, pero ahorramos memoria, sería igual que la normal realmente"
   ]
  },
  {
   "cell_type": "code",
   "execution_count": 9,
   "metadata": {
    "dotnet_interactive": {
     "language": "csharp"
    },
    "polyglot_notebook": {
     "kernelName": "csharp"
    },
    "vscode": {
     "languageId": "polyglot-notebook"
    }
   },
   "outputs": [
    {
     "ename": "Error",
     "evalue": "(9,9): error CS1525: Invalid expression term 'int'\r\n(9,13): error CS1003: Syntax error, ',' expected",
     "output_type": "error",
     "traceback": [
      "(9,9): error CS1525: Invalid expression term 'int'\r\n",
      "(9,13): error CS1003: Syntax error, ',' expected"
     ]
    }
   ],
   "source": [
    "int x = 5;\n",
    "\n",
    "void Foo (int x){\n",
    "  Console.WriteLine(x+1);\n",
    "}\n",
    "\n",
    "Foo (ref x);\n",
    "Foo (out int x);\n",
    "Foo (in int x);"
   ]
  },
  {
   "cell_type": "markdown",
   "metadata": {},
   "source": [
    "### Hay parámetros nombrables como en Kotlin"
   ]
  },
  {
   "cell_type": "code",
   "execution_count": 10,
   "metadata": {
    "dotnet_interactive": {
     "language": "csharp"
    },
    "polyglot_notebook": {
     "kernelName": "csharp"
    },
    "vscode": {
     "languageId": "polyglot-notebook"
    }
   },
   "outputs": [
    {
     "name": "stdout",
     "output_type": "stream",
     "text": [
      "3\r\n"
     ]
    }
   ],
   "source": [
    "void Foo (int x = 0, int y = 0){\n",
    "   Console.WriteLine(x+y);\n",
    "}\n",
    "\n",
    "Foo (x:1, y:2);"
   ]
  },
  {
   "cell_type": "markdown",
   "metadata": {},
   "source": [
    "### Tuplas (pueden ser más de dos)"
   ]
  },
  {
   "cell_type": "code",
   "execution_count": 11,
   "metadata": {
    "dotnet_interactive": {
     "language": "csharp"
    },
    "polyglot_notebook": {
     "kernelName": "csharp"
    },
    "vscode": {
     "languageId": "polyglot-notebook"
    }
   },
   "outputs": [
    {
     "name": "stdout",
     "output_type": "stream",
     "text": [
      "4.5\n",
      "3\n"
     ]
    }
   ],
   "source": [
    "(double, int) tupla = (4.5, 3);\n",
    "Console.WriteLine(tupla.Item1);\n",
    "Console.WriteLine(tupla.Item2);"
   ]
  },
  {
   "cell_type": "markdown",
   "metadata": {},
   "source": [
    "### Lambda\n",
    "Clase anónima con un método"
   ]
  },
  {
   "cell_type": "code",
   "execution_count": 14,
   "metadata": {
    "dotnet_interactive": {
     "language": "csharp"
    },
    "polyglot_notebook": {
     "kernelName": "csharp"
    },
    "vscode": {
     "languageId": "polyglot-notebook"
    }
   },
   "outputs": [
    {
     "ename": "Error",
     "evalue": "(3,59): error CS0103: The name 's' does not exist in the current context\r\n(4,22): error CS0103: The name 'y' does not exist in the current context",
     "output_type": "error",
     "traceback": [
      "(3,59): error CS0103: The name 's' does not exist in the current context\r\n",
      "(4,22): error CS0103: The name 'y' does not exist in the current context"
     ]
    }
   ],
   "source": [
    "Func <int, int> square = x => x*x;\n",
    "square(5);\n",
    "Func <int, string, bool> isTooLong = (int x, string y) => s.Lenght();\n",
    "void LoaalMetod() => y = 0;"
   ]
  },
  {
   "cell_type": "markdown",
   "metadata": {},
   "source": [
    "### Métodos\n",
    "* Propiedades\n",
    "* Delegados (delegates)\n",
    "* Programación reactiva eventos (sin interfaz gráfica)\n",
    "* Métodos con operadores\n",
    "\n",
    "- Utilizar getters & setters\n",
    "\n",
    "Ejemplo con:\n",
    "- edad siendo una atributo\n",
    "- Name siendo un método"
   ]
  },
  {
   "cell_type": "code",
   "execution_count": 13,
   "metadata": {
    "dotnet_interactive": {
     "language": "csharp"
    },
    "polyglot_notebook": {
     "kernelName": "csharp"
    },
    "vscode": {
     "languageId": "polyglot-notebook"
    }
   },
   "outputs": [
    {
     "ename": "Error",
     "evalue": "(18,9): error CS8180: { or ; or => expected\r\n(18,9): error CS1513: } expected\r\n(24,17): error CS1519: Invalid token '=' in class, record, struct, or interface member declaration\r\n(24,17): error CS1519: Invalid token '=' in class, record, struct, or interface member declaration\r\n(25,17): error CS1519: Invalid token '(' in class, record, struct, or interface member declaration\r\n(25,18): error CS8124: Tuple must contain at least two elements.\r\n(25,20): error CS1519: Invalid token '=' in class, record, struct, or interface member declaration\r\n(25,24): error CS1513: } expected",
     "output_type": "error",
     "traceback": [
      "(18,9): error CS8180: { or ; or => expected\r\n",
      "(18,9): error CS1513: } expected\r\n",
      "(24,17): error CS1519: Invalid token '=' in class, record, struct, or interface member declaration\r\n",
      "(24,17): error CS1519: Invalid token '=' in class, record, struct, or interface member declaration\r\n",
      "(25,17): error CS1519: Invalid token '(' in class, record, struct, or interface member declaration\r\n",
      "(25,18): error CS8124: Tuple must contain at least two elements.\r\n",
      "(25,20): error CS1519: Invalid token '=' in class, record, struct, or interface member declaration\r\n",
      "(25,24): error CS1513: } expected"
     ]
    }
   ],
   "source": [
    "class Person\n",
    "{\n",
    "  private int edad;\n",
    "  public string Name { get; set; } \n",
    "  private string apellido;\n",
    "\n",
    "  public Persona()\n",
    "  {\n",
    "    edad = 12;\n",
    "  }\n",
    "\n",
    "  public setEdad()\n",
    "  {\n",
    "    this.edad = 12;\n",
    "  }\n",
    "\n",
    "  public string Apellido{\n",
    "    get -> apellido;\n",
    "    set -> apellido = \"Don\" +value;\n",
    "  } \n",
    "}\n",
    "\n",
    " Person persona = new ();\n",
    " persona.Nombre = \"Angel\";\n",
    " persona.setEdad() = 2;"
   ]
  },
  {
   "cell_type": "markdown",
   "metadata": {},
   "source": [
    "### Namespace\n",
    "Es como una clase abstracta para un solo fichero, pero se utilizar mejor el nombre de la carpeta -> \n",
    "namespace Gente;\n",
    "class Persona\n",
    "{\n",
    "\n",
    "}"
   ]
  },
  {
   "cell_type": "markdown",
   "metadata": {},
   "source": [
    "# Delegados y eventos"
   ]
  },
  {
   "cell_type": "markdown",
   "metadata": {},
   "source": [
    "Son la base para los eventos, mediante contratos/interfaces.\n",
    "\n",
    "El manejador de eventos se define como delegado.\n",
    "\n",
    "Las subscripciones se ponen y quitan con: += y -=\n",
    "\n",
    "E.G.:\n",
    "emisor.MiEvento += (mensaje) => Consolse.WriteLine(mensaje)\n",
    "emisor.MiEvento += (mensaje) => enviarMensaje(mensaje)\n",
    "\n",
    "enviarMensaje(mensaje){\n",
    "    Consolse.WriteLine(mensaje)\n",
    "}\n"
   ]
  },
  {
   "cell_type": "code",
   "execution_count": null,
   "metadata": {
    "dotnet_interactive": {
     "language": "csharp"
    },
    "polyglot_notebook": {
     "kernelName": "csharp"
    },
    "vscode": {
     "languageId": "polyglot-notebook"
    }
   },
   "outputs": [],
   "source": [
    "public delegate int PerformCalculation(int x, int y);\n",
    "\n"
   ]
  },
  {
   "cell_type": "markdown",
   "metadata": {},
   "source": [
    "# Clase partial"
   ]
  },
  {
   "cell_type": "markdown",
   "metadata": {},
   "source": [
    "Cuando una clase se hace enorme y quieres tenerlo organizado:\n",
    "\n",
    "- Fichero.cs (con la misma clase), e.g.: una para el editor gráfico que se genera solo del IDE\n",
    "- Fichero_2.cs (con la misma clase), e.g.: otra para nosotros meter código personal\n",
    "\n"
   ]
  },
  {
   "cell_type": "markdown",
   "metadata": {},
   "source": [
    "# DLL\n",
    "Es una librería en ensamblador para windows, que se puede reutilizar\n"
   ]
  },
  {
   "cell_type": "markdown",
   "metadata": {},
   "source": [
    "# Atributos\n",
    "- constant: en tiempo de compilación,  nunca puede cambiar, habría que reensamblar toda la app\n",
    "- read-only: constante en tiempo de ejecución, se asigna cuando se ejecuta la app, e.g.: la url por ejemplo de una API\n",
    "- required: te obliga a asignar el valor de un objeto al instanciarlo, se realiza mediante INICIADORES"
   ]
  },
  {
   "cell_type": "markdown",
   "metadata": {},
   "source": [
    "# Finalizador\n",
    "Es un método que se ejecuta cuando destruytes la clase:\n",
    "\n",
    "- En java hay que implementar la interfaz :Disposable()\n",
    "\n",
    "public class Person{\n",
    "\n",
    "  private string nombre;\n",
    "  private int edad;\n",
    "\n",
    "  -Persona(){\n",
    "      Consolse.WriteLine(\"Se ha borrado una persona\")\n",
    "    \n",
    "  }\n",
    "}\n",
    "\n",
    "# Deconstructor\n",
    "Retorna tuplas de los atributos del objeto especificado (UTIL PARA DATACLASS) y devuelve las variables directamente\n",
    "\n",
    "public class Person{\n",
    "\n",
    "  private string nombre;\n",
    "  private int edad;\n",
    "\n",
    "  class Deconstruct(out string nombre, out int edad){\n",
    "    this.edad.nombre = nombre;\n",
    "    this.edad = edad;\n",
    "  }\n",
    "}"
   ]
  },
  {
   "cell_type": "markdown",
   "metadata": {},
   "source": [
    "# Instanciar objetos\n",
    "\n",
    "Se puede asi:\n",
    "\n",
    "Persona person = new();\n",
    "var persona = new Persona();\n",
    "\n",
    "## Mediante un inicializador:\n",
    "\n",
    "Se suele hacer con propiedades y va entre llaves.\n",
    "Es similar a kotlin con los parámetros nombrados:\n",
    "\n",
    "Persona person = new(){\n",
    "  nombre = \"Pepe\",\n",
    "  edad = 20\n",
    "}\n",
    "\n",
    "Se puede mezclar inicializador y constructor:\n",
    "Persona person = new(\"Pepe\"){\n",
    "  edad = 20\n",
    "}"
   ]
  },
  {
   "cell_type": "markdown",
   "metadata": {},
   "source": [
    "# Propiedades\n",
    "- get: para obtener el valor\n",
    "- set: para asignar el valor\n"
   ]
  },
  {
   "cell_type": "code",
   "execution_count": null,
   "metadata": {
    "dotnet_interactive": {
     "language": "csharp"
    },
    "polyglot_notebook": {
     "kernelName": "csharp"
    },
    "vscode": {
     "languageId": "polyglot-notebook"
    }
   },
   "outputs": [],
   "source": [
    "public class Person\n",
    "{\n",
    "  private string name; // Atributo\n",
    "  public string nombre; // Propiedad\n",
    "  {\n",
    "    get{return nombre;}\n",
    "    set{ nombre = value;}\n",
    "  }\n",
    "}\n",
    "\n",
    "public class PersonAutomatic\n",
    "{\n",
    "  public string Nombre {get; set;} // Método automático\n",
    "  public string Edad {get;} // Método constante automático\n",
    "  public string Apellido {get; init;} // Método readonly automático\n",
    "}"
   ]
  },
  {
   "cell_type": "markdown",
   "metadata": {},
   "source": [
    "# Estructuras y Records\n",
    "Estructuras: tipos de datos básicos con lo que se hacen las clases, para que se almacene en las Pilas no en el Heap, almacena todos los atributos como variables en la Pila, y los métodos almacena el puntero al Heap, con todo esot ganamos mucho rendimiento.\n",
    "\n",
    "Es un tipo básico y tiene limitaciones:\n",
    "\n",
    "- No se puede heredar ni implementar interfaces\n",
    "- Muy común en data clases, de tipos sencillas (int, floats, etc)\n",
    "\n",
    "Pero en general no utilizarlo hasta que seamos PROS.\n"
   ]
  },
  {
   "cell_type": "markdown",
   "metadata": {},
   "source": [
    "# Records\n",
    "Implementa los métodos típicos que debe tener un dataclass.\n",
    "\n",
    "- Son inmutables\n",
    "- Utilizar en DTO´s solo que se manden por JSON , no hace falta DTO para la lógica de nuestra app."
   ]
  },
  {
   "cell_type": "code",
   "execution_count": null,
   "metadata": {
    "dotnet_interactive": {
     "language": "csharp"
    },
    "polyglot_notebook": {
     "kernelName": "csharp"
    },
    "vscode": {
     "languageId": "polyglot-notebook"
    }
   },
   "outputs": [],
   "source": []
  }
 ],
 "metadata": {
  "kernelspec": {
   "display_name": "Python 3",
   "language": "python",
   "name": "python3"
  },
  "language_info": {
   "codemirror_mode": {
    "name": "ipython",
    "version": 3
   },
   "file_extension": ".py",
   "mimetype": "text/x-python",
   "name": "python",
   "nbconvert_exporter": "python",
   "pygments_lexer": "ipython3",
   "version": "3.11.6"
  }
 },
 "nbformat": 4,
 "nbformat_minor": 2
}
